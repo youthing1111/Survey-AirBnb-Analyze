{
 "cells": [
  {
   "cell_type": "code",
   "execution_count": 1,
   "metadata": {},
   "outputs": [],
   "source": [
    "import pandas as pd\n",
    "import numpy as np\n",
    "import seaborn as sns\n",
    "import matplotlib.pyplot as plt\n",
    "import matplotlib\n",
    "import plotly.express as px\n",
    "import scipy\n",
    "from sklearn.linear_model import LinearRegression\n",
    "from sklearn.metrics import mean_squared_error\n",
    "from sklearn.metrics import r2_score\n",
    "import statsmodels.api as sm\n",
    "import seaborn as sns\n",
    "from statsmodels.formula.api import ols\n",
    "from sklearn.preprocessing import PolynomialFeatures\n",
    "from sklearn.model_selection import train_test_split"
   ]
  },
  {
   "cell_type": "markdown",
   "metadata": {},
   "source": [
    "Import the data"
   ]
  },
  {
   "cell_type": "code",
   "execution_count": 10,
   "metadata": {},
   "outputs": [
    {
     "data": {
      "text/html": [
       "<div>\n",
       "<style scoped>\n",
       "    .dataframe tbody tr th:only-of-type {\n",
       "        vertical-align: middle;\n",
       "    }\n",
       "\n",
       "    .dataframe tbody tr th {\n",
       "        vertical-align: top;\n",
       "    }\n",
       "\n",
       "    .dataframe thead th {\n",
       "        text-align: right;\n",
       "    }\n",
       "</style>\n",
       "<table border=\"1\" class=\"dataframe\">\n",
       "  <thead>\n",
       "    <tr style=\"text-align: right;\">\n",
       "      <th></th>\n",
       "      <th>Respondents ID</th>\n",
       "      <th>Sex</th>\n",
       "      <th>Age</th>\n",
       "      <th>Educ</th>\n",
       "      <th>Income</th>\n",
       "      <th>Status</th>\n",
       "      <th>COL</th>\n",
       "      <th>EWOM</th>\n",
       "      <th>LUA</th>\n",
       "      <th>FEM</th>\n",
       "      <th>LTO</th>\n",
       "      <th>RES</th>\n",
       "      <th>ATT</th>\n",
       "      <th>SN</th>\n",
       "      <th>IN1</th>\n",
       "      <th>IN2</th>\n",
       "    </tr>\n",
       "  </thead>\n",
       "  <tbody>\n",
       "    <tr>\n",
       "      <th>0</th>\n",
       "      <td>0</td>\n",
       "      <td>0</td>\n",
       "      <td>0</td>\n",
       "      <td>1</td>\n",
       "      <td>0</td>\n",
       "      <td>0</td>\n",
       "      <td>2.000000</td>\n",
       "      <td>1.25</td>\n",
       "      <td>2.0</td>\n",
       "      <td>3.00</td>\n",
       "      <td>2.333333</td>\n",
       "      <td>2.666667</td>\n",
       "      <td>1.75</td>\n",
       "      <td>2.5</td>\n",
       "      <td>2</td>\n",
       "      <td>2</td>\n",
       "    </tr>\n",
       "    <tr>\n",
       "      <th>1</th>\n",
       "      <td>1</td>\n",
       "      <td>1</td>\n",
       "      <td>0</td>\n",
       "      <td>1</td>\n",
       "      <td>0</td>\n",
       "      <td>0</td>\n",
       "      <td>3.000000</td>\n",
       "      <td>2.75</td>\n",
       "      <td>1.4</td>\n",
       "      <td>2.25</td>\n",
       "      <td>1.666667</td>\n",
       "      <td>2.000000</td>\n",
       "      <td>2.00</td>\n",
       "      <td>2.5</td>\n",
       "      <td>3</td>\n",
       "      <td>2</td>\n",
       "    </tr>\n",
       "    <tr>\n",
       "      <th>2</th>\n",
       "      <td>2</td>\n",
       "      <td>1</td>\n",
       "      <td>2</td>\n",
       "      <td>1</td>\n",
       "      <td>0</td>\n",
       "      <td>0</td>\n",
       "      <td>1.666667</td>\n",
       "      <td>3.50</td>\n",
       "      <td>1.6</td>\n",
       "      <td>1.50</td>\n",
       "      <td>2.666667</td>\n",
       "      <td>1.666667</td>\n",
       "      <td>2.50</td>\n",
       "      <td>2.5</td>\n",
       "      <td>3</td>\n",
       "      <td>2</td>\n",
       "    </tr>\n",
       "    <tr>\n",
       "      <th>3</th>\n",
       "      <td>3</td>\n",
       "      <td>1</td>\n",
       "      <td>2</td>\n",
       "      <td>2</td>\n",
       "      <td>1</td>\n",
       "      <td>1</td>\n",
       "      <td>3.000000</td>\n",
       "      <td>2.00</td>\n",
       "      <td>2.4</td>\n",
       "      <td>3.25</td>\n",
       "      <td>2.333333</td>\n",
       "      <td>1.666667</td>\n",
       "      <td>1.50</td>\n",
       "      <td>2.5</td>\n",
       "      <td>3</td>\n",
       "      <td>3</td>\n",
       "    </tr>\n",
       "    <tr>\n",
       "      <th>4</th>\n",
       "      <td>4</td>\n",
       "      <td>1</td>\n",
       "      <td>0</td>\n",
       "      <td>1</td>\n",
       "      <td>0</td>\n",
       "      <td>0</td>\n",
       "      <td>3.666667</td>\n",
       "      <td>1.25</td>\n",
       "      <td>1.6</td>\n",
       "      <td>3.00</td>\n",
       "      <td>2.000000</td>\n",
       "      <td>1.666667</td>\n",
       "      <td>3.25</td>\n",
       "      <td>3.0</td>\n",
       "      <td>4</td>\n",
       "      <td>3</td>\n",
       "    </tr>\n",
       "  </tbody>\n",
       "</table>\n",
       "</div>"
      ],
      "text/plain": [
       "   Respondents ID   Sex    Age    Educ    Income    Status        COL  EWOM  \\\n",
       "0               0      0      0       1         0         0  2.000000  1.25   \n",
       "1               1      1      0       1         0         0  3.000000  2.75   \n",
       "2               2      1      2       1         0         0  1.666667  3.50   \n",
       "3               3      1      2       2         1         1  3.000000  2.00   \n",
       "4               4      1      0       1         0         0  3.666667  1.25   \n",
       "\n",
       "   LUA   FEM       LTO       RES   ATT   SN   IN1    IN2   \n",
       "0  2.0  3.00  2.333333  2.666667  1.75  2.5      2      2  \n",
       "1  1.4  2.25  1.666667  2.000000  2.00  2.5      3      2  \n",
       "2  1.6  1.50  2.666667  1.666667  2.50  2.5      3      2  \n",
       "3  2.4  3.25  2.333333  1.666667  1.50  2.5      3      3  \n",
       "4  1.6  3.00  2.000000  1.666667  3.25  3.0      4      3  "
      ]
     },
     "execution_count": 10,
     "metadata": {},
     "output_type": "execute_result"
    }
   ],
   "source": [
    "df = pd.read_excel('E:\\Me\\AirBnb Survey_1.xlsx', engine='openpyxl')\n",
    "df_org = pd.read_excel('E:\\Me\\AirBnb Survey_1.xlsx', engine='openpyxl')\n",
    "df.head()"
   ]
  },
  {
   "cell_type": "markdown",
   "metadata": {},
   "source": [
    "Checking all the columns"
   ]
  },
  {
   "cell_type": "code",
   "execution_count": 35,
   "metadata": {},
   "outputs": [
    {
     "data": {
      "text/plain": [
       "Index(['Respondents ID', ' Sex ', ' Age ', ' Educ ', ' Income ', ' Status ',\n",
       "       'COL', 'EWOM', 'LUA', 'FEM', 'LTO', 'RES', 'ATT', 'SN', ' IN1 ',\n",
       "       ' IN2 '],\n",
       "      dtype='object')"
      ]
     },
     "execution_count": 35,
     "metadata": {},
     "output_type": "execute_result"
    }
   ],
   "source": [
    "df_org.columns"
   ]
  },
  {
   "cell_type": "markdown",
   "metadata": {},
   "source": [
    "Remove the space in the name of somw columns"
   ]
  },
  {
   "cell_type": "code",
   "execution_count": 11,
   "metadata": {},
   "outputs": [],
   "source": [
    "df_org = df_org.rename(columns= {' Sex ': 'Sex', ' Age ': 'Age', ' Educ ':'Educ',' Income ':'Income', ' Status ':'Status', ' IN1 ':'IN1', ' IN2 ':'IN2'})"
   ]
  },
  {
   "cell_type": "markdown",
   "metadata": {},
   "source": [
    "Round the value in column to 0 decimal for analyzing"
   ]
  },
  {
   "cell_type": "code",
   "execution_count": 12,
   "metadata": {},
   "outputs": [],
   "source": [
    "df= df.round(decimals=0).astype(int)"
   ]
  },
  {
   "cell_type": "markdown",
   "metadata": {},
   "source": [
    "Replace categorical value with the actual values (?)"
   ]
  },
  {
   "cell_type": "code",
   "execution_count": 13,
   "metadata": {},
   "outputs": [
    {
     "data": {
      "text/plain": [
       "0      Male\n",
       "1    Female\n",
       "2    Female\n",
       "3    Female\n",
       "4    Female\n",
       "Name:  Sex , dtype: object"
      ]
     },
     "execution_count": 13,
     "metadata": {},
     "output_type": "execute_result"
    }
   ],
   "source": [
    "vals_replace_sex = {1:'Female', 0 :'Male'}\n",
    "df[' Sex '] = df[' Sex '].map(vals_replace_sex)\n",
    "df[' Sex '].head()"
   ]
  },
  {
   "cell_type": "code",
   "execution_count": 14,
   "metadata": {},
   "outputs": [
    {
     "data": {
      "text/plain": [
       "0      A little\n",
       "1    Moderately\n",
       "2      A little\n",
       "3    Moderately\n",
       "4        Highly\n",
       "Name: COL, dtype: object"
      ]
     },
     "execution_count": 14,
     "metadata": {},
     "output_type": "execute_result"
    }
   ],
   "source": [
    "val_replace_COL = {1:'No', 2:'A little', 3:'Moderately', 4:'Highly', 5:'Extremely'}\n",
    "df[['COL','EWOM','LUA','FEM','LTO','RES','ATT','SN',' IN1 ',' IN2 ']] = df[['COL','EWOM','LUA','FEM','LTO','RES','ATT','SN',' IN1 ',' IN2 ']].stack().map(val_replace_COL).unstack()\n",
    "df['COL'].head()\n"
   ]
  },
  {
   "cell_type": "code",
   "execution_count": 15,
   "metadata": {},
   "outputs": [
    {
     "data": {
      "text/plain": [
       "0    18 to 22\n",
       "1    18 to 22\n",
       "2    31 to 40\n",
       "3    31 to 40\n",
       "4    18 to 22\n",
       "Name:  Age , dtype: object"
      ]
     },
     "execution_count": 15,
     "metadata": {},
     "output_type": "execute_result"
    }
   ],
   "source": [
    "val_replace_age = {0:'18 to 22', 1:'23 to 30', 2:'31 to 40', 3:'41 to 40', 4:'above 50'}\n",
    "df[' Age '] = df[' Age '].map(val_replace_age)\n",
    "df[' Age '].head()"
   ]
  },
  {
   "cell_type": "code",
   "execution_count": 16,
   "metadata": {},
   "outputs": [
    {
     "data": {
      "text/plain": [
       "0       university\n",
       "1       university\n",
       "2       university\n",
       "3    post graduate\n",
       "4       university\n",
       "Name:  Educ , dtype: object"
      ]
     },
     "execution_count": 16,
     "metadata": {},
     "output_type": "execute_result"
    }
   ],
   "source": [
    "val_replace_educ = {0: 'highschool or lower', 1:'university', 2:'post graduate'}\n",
    "df[' Educ '] = df[' Educ '].map(val_replace_educ)\n",
    "df[' Educ '].head()"
   ]
  },
  {
   "cell_type": "code",
   "execution_count": 17,
   "metadata": {},
   "outputs": [
    {
     "data": {
      "text/plain": [
       "0    under 7m\n",
       "1    under 7m\n",
       "2    under 7m\n",
       "3       7-10m\n",
       "4    under 7m\n",
       "Name:  Income , dtype: object"
      ]
     },
     "execution_count": 17,
     "metadata": {},
     "output_type": "execute_result"
    }
   ],
   "source": [
    "val_replace_income = {0: 'under 7m', 1:'7-10m', 2:'10-20m', 3:'21-30m', 4:'above 30m'}\n",
    "df[' Income '] = df[' Income '].map(val_replace_income)\n",
    "df[' Income '].head()"
   ]
  },
  {
   "cell_type": "code",
   "execution_count": 18,
   "metadata": {},
   "outputs": [
    {
     "data": {
      "text/plain": [
       "0     no\n",
       "1     no\n",
       "2     no\n",
       "3    yes\n",
       "4     no\n",
       "Name:  Status , dtype: object"
      ]
     },
     "execution_count": 18,
     "metadata": {},
     "output_type": "execute_result"
    }
   ],
   "source": [
    "val_replace_status = {0:'no', 1:'yes'}\n",
    "df[' Status '] = df[' Status '].map(val_replace_status)\n",
    "df[' Status '].head()"
   ]
  },
  {
   "cell_type": "markdown",
   "metadata": {},
   "source": [
    "Exploratory analysis"
   ]
  },
  {
   "cell_type": "code",
   "execution_count": 44,
   "metadata": {},
   "outputs": [],
   "source": [
    "def graph():\n",
    "    columns_list = list(df.columns)\n",
    "    columns_list.remove('Respondents ID')\n",
    "    for x in columns_list :\n",
    "        attr_count = df[x].value_counts().rename_axis(x).reset_index(name='Count')\n",
    "        attr_count.sort_values(by=x, inplace=True)\n",
    "        \n",
    "        fig, ax = plt.subplots(figsize = (16,9))\n",
    "        ax.barh(attr_count[x], attr_count['Count'])\n",
    "        for i in ax.patches:\n",
    "            plt.text(i.get_width()+0.2, i.get_y()+0.5,\n",
    "                str(round((i.get_width()), 2)),\n",
    "                fontsize = 10, fontweight ='bold',\n",
    "                color ='grey')\n",
    "        ax.set_title(f'Distribution of respodent{x.lower()}', loc='left')\n",
    "        plt.show()"
   ]
  },
  {
   "cell_type": "code",
   "execution_count": null,
   "metadata": {},
   "outputs": [],
   "source": [
    "graph()"
   ]
  },
  {
   "cell_type": "markdown",
   "metadata": {},
   "source": [
    "Using chi-square test to check the correlation between respondents' answers and their intentions to use AirBnb"
   ]
  },
  {
   "cell_type": "code",
   "execution_count": 46,
   "metadata": {},
   "outputs": [],
   "source": [
    "def chi_square():\n",
    "    columns_list = list(df.columns)\n",
    "    columns_list.remove('Respondents ID')\n",
    "    for x in columns_list:\n",
    "        cross_tab = pd.crosstab(df[x], df[' IN1 '], margins=True)\n",
    "        stat, p, dof, expected = scipy.stats.chi2_contingency(cross_tab)\n",
    "        print(f\"The p value for {x} is {str(round(p,2))}\")\n"
   ]
  },
  {
   "cell_type": "code",
   "execution_count": 47,
   "metadata": {},
   "outputs": [
    {
     "name": "stdout",
     "output_type": "stream",
     "text": [
      "The p value for  Sex  is 0.61\n",
      "The p value for  Age  is 0.93\n",
      "The p value for  Educ  is 0.99\n",
      "The p value for  Income  is 0.89\n",
      "The p value for  Status  is 0.36\n",
      "The p value for COL is 0.0\n",
      "The p value for EWOM is 0.0\n",
      "The p value for LUA is 0.0\n",
      "The p value for FEM is 0.0\n",
      "The p value for LTO is 0.72\n",
      "The p value for RES is 0.61\n",
      "The p value for ATT is 0.0\n",
      "The p value for SN is 0.0\n",
      "The p value for  IN1  is 0.0\n",
      "The p value for  IN2  is 0.0\n"
     ]
    }
   ],
   "source": [
    "chi_square()"
   ]
  },
  {
   "cell_type": "markdown",
   "metadata": {},
   "source": [
    "COL, EWOM, LUA, FEM, ATT, SN have p-value lower then 0.05. Therefore we deny the null hypothesis that their is no correlation between them and IN1"
   ]
  },
  {
   "cell_type": "markdown",
   "metadata": {},
   "source": [
    "Using Linear Regression"
   ]
  },
  {
   "cell_type": "code",
   "execution_count": null,
   "metadata": {},
   "outputs": [],
   "source": [
    "x_train, x_test, y_train, y_test = train_test_split(z, df_org['IN1'], test_size = 0.3, random_state = 0)"
   ]
  },
  {
   "cell_type": "code",
   "execution_count": null,
   "metadata": {},
   "outputs": [
    {
     "name": "stdout",
     "output_type": "stream",
     "text": [
      "[0.6790712515346644, 0.5924743894428939, -0.8614501735383575, -3985.667783442374]\n"
     ]
    }
   ],
   "source": [
    "lr = LinearRegression()\n",
    "Rsqu_test = []\n",
    "order = [1,2,3,4]\n",
    "for n in order:\n",
    "    pr=PolynomialFeatures(degree=n)\n",
    "    x_train_pr = pr.fit_transform(x_train[['COL', 'EWOM', 'LUA', 'FEM', 'ATT', 'SN']])\n",
    "    x_test_pr = pr.fit_transform(x_test[['COL', 'EWOM', 'LUA', 'FEM', 'ATT', 'SN']])\n",
    "    lr.fit(x_train_pr,y_train)\n",
    "    Rsqu_test.append(lr.score(x_test_pr, y_test))\n",
    "print(Rsqu_test)\n"
   ]
  },
  {
   "cell_type": "code",
   "execution_count": 48,
   "metadata": {},
   "outputs": [
    {
     "name": "stdout",
     "output_type": "stream",
     "text": [
      "Intercept: 0.8318700128069585\n",
      "Coefs: [ 0.09397067 -0.04625572 -0.13662349  0.05378754  0.0415287   0.87157985]\n"
     ]
    }
   ],
   "source": [
    "lm = LinearRegression()\n",
    "z = df_org[['COL', 'EWOM', 'LUA', 'FEM', 'ATT', 'SN']]\n",
    "lm.fit(z, df_org['IN1'])\n",
    "print(f'Intercept: {lm.intercept_}')\n",
    "print(f'Coefs: {lm.coef_}')"
   ]
  },
  {
   "cell_type": "markdown",
   "metadata": {},
   "source": [
    "The formula is 0.8318700128069585 + 0.09397067*COL - 0.04625572*EWOM - 0.13662349*LUA + 0.05378754*FEM + 0.0415287*ATT + 0.87157985*SN"
   ]
  },
  {
   "cell_type": "code",
   "execution_count": 49,
   "metadata": {},
   "outputs": [
    {
     "data": {
      "text/plain": [
       "0.6293351611300749"
      ]
     },
     "execution_count": 49,
     "metadata": {},
     "output_type": "execute_result"
    }
   ],
   "source": [
    "Yhat = lm.predict(z)\n",
    "coef = r2_score(df_org['IN1'], Yhat)\n",
    "coef\n"
   ]
  },
  {
   "cell_type": "code",
   "execution_count": 105,
   "metadata": {},
   "outputs": [
    {
     "name": "stderr",
     "output_type": "stream",
     "text": [
      "C:\\Users\\Admin\\AppData\\Local\\Programs\\PythonCodingPack\\lib\\site-packages\\seaborn\\distributions.py:2619: FutureWarning: `distplot` is a deprecated function and will be removed in a future version. Please adapt your code to use either `displot` (a figure-level function with similar flexibility) or `kdeplot` (an axes-level function for kernel density plots).\n",
      "  warnings.warn(msg, FutureWarning)\n",
      "C:\\Users\\Admin\\AppData\\Local\\Programs\\PythonCodingPack\\lib\\site-packages\\seaborn\\distributions.py:2619: FutureWarning: `distplot` is a deprecated function and will be removed in a future version. Please adapt your code to use either `displot` (a figure-level function with similar flexibility) or `kdeplot` (an axes-level function for kernel density plots).\n",
      "  warnings.warn(msg, FutureWarning)\n"
     ]
    },
    {
     "data": {
      "text/plain": [
       "<AxesSubplot:xlabel='IN1', ylabel='Density'>"
      ]
     },
     "execution_count": 105,
     "metadata": {},
     "output_type": "execute_result"
    },
    {
     "data": {
      "image/png": "[encoded data removed]",
      "text/plain": [
       "<Figure size 432x288 with 1 Axes>"
      ]
     },
     "metadata": {
      "needs_background": "light"
     },
     "output_type": "display_data"
    }
   ],
   "source": [
    "ax1 = sns.distplot(df_org['IN1'], hist=False)\n",
    "sns.distplot(Yhat, hist=False)"
   ]
  }
 ],
 "metadata": {
  "interpreter": {
   "hash": "4813ac97a3d931371fe770652015293eab07f6198f38e1ffed61f45335228d2a"
  },
  "kernelspec": {
   "display_name": "Python 3.8.5 64-bit",
   "language": "python",
   "name": "python3"
  },
  "language_info": {
   "codemirror_mode": {
    "name": "ipython",
    "version": 3
   },
   "file_extension": ".py",
   "mimetype": "text/x-python",
   "name": "python",
   "nbconvert_exporter": "python",
   "pygments_lexer": "ipython3",
   "version": "3.8.5"
  },
  "orig_nbformat": 4
 },
 "nbformat": 4,
 "nbformat_minor": 2
}
